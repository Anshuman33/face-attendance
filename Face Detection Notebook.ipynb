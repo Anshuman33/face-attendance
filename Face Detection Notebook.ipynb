{
 "cells": [
  {
   "cell_type": "code",
   "execution_count": 1,
   "id": "f9addac0",
   "metadata": {},
   "outputs": [],
   "source": [
    "import cv2\n",
    "from matplotlib import pyplot as plt\n",
    "import matplotlib.image as mpimg"
   ]
  },
  {
   "cell_type": "code",
   "execution_count": 2,
   "id": "217a34ea",
   "metadata": {},
   "outputs": [],
   "source": [
    "from PIL import Image\n",
    "import glob\n",
    "import os"
   ]
  },
  {
   "cell_type": "code",
   "execution_count": 3,
   "id": "f70889fa",
   "metadata": {},
   "outputs": [],
   "source": [
    "imgs=[]\n",
    "path=\"C:/Users/Dr. Mrinal Pal/Desktop/images/*.jpg\"\n",
    "dest_path=\"C:/Users/Dr. Mrinal Pal/Desktop/training/\"\n",
    "\n",
    "for f in glob.glob(path):\n",
    "    im=mpimg.imread(f)\n",
    "    n=os.path.basename(f)\n",
    "    #print(n)\n",
    "    face_cascade = cv2.CascadeClassifier(cv2.data.haarcascades + 'haarcascade_frontalface_default.xml')  \n",
    "    gray = cv2.cvtColor(im, cv2.COLOR_BGR2GRAY)  \n",
    "  \n",
    "# Detect faces  \n",
    "    faces = face_cascade.detectMultiScale(gray, 1.3, 5)  \n",
    "  \n",
    "# Draw rectangle around the faces  \n",
    "    for (x, y, w, h) in faces:  \n",
    "        cv2.rectangle(im, (x, y), (x + w, y + h), (255, 255, 0), 2) \n",
    "        cropped_img = im[y:y+h, x:x+w]\n",
    "        #plt.imshow(cropped_img)\n",
    "        \n",
    "        data=Image.fromarray(cropped_img)\n",
    "        data.save(dest_path+n)"
   ]
  },
  {
   "cell_type": "code",
   "execution_count": null,
   "id": "7c67a16d",
   "metadata": {},
   "outputs": [],
   "source": []
  }
 ],
 "metadata": {
  "kernelspec": {
   "display_name": "Python 3",
   "language": "python",
   "name": "python3"
  },
  "language_info": {
   "codemirror_mode": {
    "name": "ipython",
    "version": 3
   },
   "file_extension": ".py",
   "mimetype": "text/x-python",
   "name": "python",
   "nbconvert_exporter": "python",
   "pygments_lexer": "ipython3",
   "version": "3.8.10"
  }
 },
 "nbformat": 4,
 "nbformat_minor": 5
}
